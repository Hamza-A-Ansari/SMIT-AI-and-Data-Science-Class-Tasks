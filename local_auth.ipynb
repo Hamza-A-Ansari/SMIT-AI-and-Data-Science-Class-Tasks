{
 "cells": [
  {
   "cell_type": "markdown",
   "id": "d64db3b3",
   "metadata": {},
   "source": [
    "# Local Authentication Program Using Python:\n"
   ]
  },
  {
   "cell_type": "code",
   "execution_count": null,
   "id": "3b6dd12f",
   "metadata": {},
   "outputs": [],
   "source": [
    "database = [\n",
    "    [\"sami\",\"sami123\"],\n",
    "    [\"jazib\",\"jaz123\"],\n",
    "    [\"hamza\",\"ham123\"],\n",
    "    [\"farhan\",\"farh123\"],\n",
    "    [\"bilal\",\"bil123\"],\n",
    "]\n",
    "username = input(\"Enter Username:\")\n",
    "password = input(\"Enter Password:\")\n",
    "active = [username,password]\n",
    "\n",
    "for x,y in database:\n",
    "    if x == active[0] and y == active[1]:\n",
    "        print(\"valid User\")\n",
    "        break\n",
    "    else:\n",
    "        continue\n",
    "else:\n",
    "    print(\"Invalid User\")\n",
    "        "
   ]
  },
  {
   "cell_type": "code",
   "execution_count": null,
   "id": "47831890",
   "metadata": {},
   "outputs": [],
   "source": []
  },
  {
   "cell_type": "code",
   "execution_count": null,
   "id": "be6d524a",
   "metadata": {},
   "outputs": [],
   "source": []
  }
 ],
 "metadata": {
  "kernelspec": {
   "display_name": "Python 3 (ipykernel)",
   "language": "python",
   "name": "python3"
  },
  "language_info": {
   "codemirror_mode": {
    "name": "ipython",
    "version": 3
   },
   "file_extension": ".py",
   "mimetype": "text/x-python",
   "name": "python",
   "nbconvert_exporter": "python",
   "pygments_lexer": "ipython3",
   "version": "3.9.12"
  }
 },
 "nbformat": 4,
 "nbformat_minor": 5
}
