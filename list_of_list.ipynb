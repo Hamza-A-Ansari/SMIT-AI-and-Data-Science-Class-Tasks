{
 "cells": [
  {
   "cell_type": "markdown",
   "id": "a9c3c22b",
   "metadata": {},
   "source": [
    "# List of List (Searching row and column index of each alphabet):\n"
   ]
  },
  {
   "cell_type": "code",
   "execution_count": null,
   "id": "0e8697b5",
   "metadata": {},
   "outputs": [],
   "source": [
    "list_of_alphabets=[\n",
    "    ['a','b','c','d','e'],\n",
    "    ['f','g','h','i','j'],\n",
    "    ['k','l','m','n','o'],\n",
    "    ['p','q','r','s','t'],\n",
    "    ['u','v','w','x','y'],\n",
    "    ['z']\n",
    "]\n",
    "your_word = (input(\"Enter Your Word:\")).lower()\n",
    "emp=[]\n",
    "if your_word.isalpha():\n",
    "    for w in your_word:\n",
    "        for i,j in enumerate(list_of_alphabets):\n",
    "            for k,l in enumerate(j):\n",
    "                if w == l:\n",
    "                    emp.append([l,(i,k)])\n",
    "        \n",
    "    print(emp)\n",
    "else:\n",
    "    print(\"Please Enter String Value!\")"
   ]
  },
  {
   "cell_type": "code",
   "execution_count": null,
   "id": "fd92fbb6",
   "metadata": {},
   "outputs": [],
   "source": []
  }
 ],
 "metadata": {
  "kernelspec": {
   "display_name": "Python 3 (ipykernel)",
   "language": "python",
   "name": "python3"
  },
  "language_info": {
   "codemirror_mode": {
    "name": "ipython",
    "version": 3
   },
   "file_extension": ".py",
   "mimetype": "text/x-python",
   "name": "python",
   "nbconvert_exporter": "python",
   "pygments_lexer": "ipython3",
   "version": "3.9.12"
  }
 },
 "nbformat": 4,
 "nbformat_minor": 5
}
