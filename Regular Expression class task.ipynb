{
 "cells": [
  {
   "cell_type": "markdown",
   "id": "e1337e1f",
   "metadata": {},
   "source": [
    "# Regular Expression class task"
   ]
  },
  {
   "cell_type": "markdown",
   "id": "e8198fdd",
   "metadata": {},
   "source": [
    "### Import Regular Expression module"
   ]
  },
  {
   "cell_type": "code",
   "execution_count": 4,
   "id": "d18a82fd",
   "metadata": {},
   "outputs": [],
   "source": [
    "import re"
   ]
  },
  {
   "cell_type": "markdown",
   "id": "b5550c31",
   "metadata": {},
   "source": [
    "### Data:"
   ]
  },
  {
   "cell_type": "code",
   "execution_count": 5,
   "id": "1061cf93",
   "metadata": {},
   "outputs": [],
   "source": [
    "data = \"\"\"\n",
    "'[11:12 PM, 8/5/2022] +92 300 2303175: Shahzad Ahmed : AI-46165 - 03002303175 - shaze.ahmed@gmail.com\\n[11:12 PM, 8/5/2022] +92 315 2935701: name: Sami rollno:AI- 40483 email: samikhan2872@gmail.com mobile-no:03152935701\\n[11:13 PM, 8/5/2022] +92 334 2995610: Talha Mehfooz, AI-40211 email: khurshaiditm47@gmail.com , mobile: 03342995610\\n[11:13 PM, 8/5/2022] +92 335 3271054: Muhammad Mohsin: AI-53993\\nEmail: mohsinsheikh0700@gmail.com\\nNo: 03353271054\\n[11:13 PM, 8/5/2022] +92 345 2541450: Hidayat ur Rehman : AI-6546 email: abc@gmail.com\\n[11:13 PM, 8/5/2022] +92 316 2688657: Muhammad Faizan: AI 40939\\nfaizanwaseem476@gmail.com\\n[11:13 PM, 8/5/2022] +92 344 2226632: Name: Saad Ahmed\\nRollNo: AI-47242\\nEmail: hello.saad96@gmail.com\\n[11:13 PM, 8/5/2022] +92 313 1145255: Gulzar :\\nAI-20145\\nEmail:hafizgulzar.alm1996@gmail.com\\nMobile no. 03131134244\\n[11:13 PM, 8/5/2022] +92 323 2900066: Abdul Rasheed AI-40154\\nemail: abdulrasheed2511gmail.com\\n[11:13 PM, 8/5/2022] +92 306 2462926: name: Sami rollno:AI- 40483 email: samikhan2872@gmail.com mobile-no:03152935701\\n[11:14 PM, 8/5/2022] +92 315 3727169: Muhammad Zeeshan : AI-400250 \\nEmail: abc@gmail.com\\nMobile no: 03153727169\\n[11:14 PM, 8/5/2022] +92 342 3392795: Ahmed saleem :AI-44378\\nEmail: ahmedsaleem2122@gmail.com\\nMobile no:0342-3392795\\n[11:14 PM, 8/5/2022] +92 331 2147373: Name : Ali Nasir \\nRoll No: 44365 \\nNIC: 42101-9864676-7 \\nEmail: malinasir1997@gmail.com \\nMobile No: 0331-2147373\\n[11:14 PM, 8/5/2022] ANSARI....: Name : Hamza Ahmed Ansari Roll number : AI-40591 Email : ibneshakeel2000@gmail.com Mobile number : 03333120597\\n[11:14 PM, 8/5/2022] +92 316 1448439: name: Zubair\\nroll no: AI- 40200 \\nemail: zubairrasheed0316@gmail.com \\nmobile-no: 03161448439\\n[11:14 PM, 8/5/2022] +92 315 2185186: Name: Irfan Roll Number: AI-45055 email: irfanmuhammadk786@gmail.com Mobile Number: 03152185186\\n[11:15 PM, 8/5/2022] +92 312 2093412: Basharat Ali :AI-46716\\nEmail: basharatfarhad24@gmail.com\\nMobile no:03122093412\\n[11:15 PM, 8/5/2022] +92 312 2296999: Shahzad Ahmed : AI-46166 - 03122296999 - umairtaqi48@gmail.com\\n[11:15 PM, 8/5/2022] +92 344 1802958: Name: Muhammad usama\\nRoll no : AI-43985\\nMobile no : 03441802958\\nEmail : usamakh315@gmail.com\\n[11:15 PM, 8/5/2022] +92 312 8525358: Faraz uddin : AI-44226- 03128525358 - asbausmuhammad92@gmail.com\\n[11:15 PM, 8/5/2022] +92 334 3523966: Name: Syed Muhammad Mooazam , Roll No: AI-40222 , Mobile Number: +923343523966\\n[11:15 PM, 8/5/2022] Sami (Uni): Name : Abdul Sami  Roll number : AI-40352 Email : abdulsamiarain82@gmail.com Mobile number : 03242824117\\n[11:16 PM, 8/5/2022] +92 312 2296999: Umair Taqi : AI-46155 - 03122296999 - umairtaqi48@gmail.com\\n[11:16 PM, 8/5/2022] +92 323 2553599: Name: Atiq Raza\\nID : AI-42612\\nEmail : razaatiq05@gmail.com\\nMobile No: 03232553599\\n[11:16 PM, 8/5/2022] +92 334 0378290: Ahsan Uddin\\nAI-43505\\n0334-0378290\\n[11:16 PM, 8/5/2022] +92 312 0004695: Name: Muhammad Furqan\\nRoll no:AI-40277\\nEmail: furqansawati@gmail.com\\nMobile no:03120004695\\n[11:17 PM, 8/5/2022] +92 306 2462926: Name: Syed Salman Ali , Roll No: AI-40969 , Mobile Number: +923062462926'\n",
    "\"\"\""
   ]
  },
  {
   "cell_type": "code",
   "execution_count": 6,
   "id": "cb468325",
   "metadata": {},
   "outputs": [
    {
     "data": {
      "text/plain": [
       "\"\\n'[11:12 PM, 8/5/2022] +92 300 2303175: Shahzad Ahmed : AI-46165 - 03002303175 - shaze.ahmed@gmail.com\\n[11:12 PM, 8/5/2022] +92 315 2935701: name: Sami rollno:AI- 40483 email: samikhan2872@gmail.com mobile-no:03152935701\\n[11:13 PM, 8/5/2022] +92 334 2995610: Talha Mehfooz, AI-40211 email: khurshaiditm47@gmail.com , mobile: 03342995610\\n[11:13 PM, 8/5/2022] +92 335 3271054: Muhammad Mohsin: AI-53993\\nEmail: mohsinsheikh0700@gmail.com\\nNo: 03353271054\\n[11:13 PM, 8/5/2022] +92 345 2541450: Hidayat ur Rehman : AI-6546 email: abc@gmail.com\\n[11:13 PM, 8/5/2022] +92 316 2688657: Muhammad Faizan: AI 40939\\nfaizanwaseem476@gmail.com\\n[11:13 PM, 8/5/2022] +92 344 2226632: Name: Saad Ahmed\\nRollNo: AI-47242\\nEmail: hello.saad96@gmail.com\\n[11:13 PM, 8/5/2022] +92 313 1145255: Gulzar :\\nAI-20145\\nEmail:hafizgulzar.alm1996@gmail.com\\nMobile no. 03131134244\\n[11:13 PM, 8/5/2022] +92 323 2900066: Abdul Rasheed AI-40154\\nemail: abdulrasheed2511gmail.com\\n[11:13 PM, 8/5/2022] +92 306 2462926: name: Sami rollno:AI- 40483 email: samikhan2872@gmail.com mobile-no:03152935701\\n[11:14 PM, 8/5/2022] +92 315 3727169: Muhammad Zeeshan : AI-400250 \\nEmail: abc@gmail.com\\nMobile no: 03153727169\\n[11:14 PM, 8/5/2022] +92 342 3392795: Ahmed saleem :AI-44378\\nEmail: ahmedsaleem2122@gmail.com\\nMobile no:0342-3392795\\n[11:14 PM, 8/5/2022] +92 331 2147373: Name : Ali Nasir \\nRoll No: 44365 \\nNIC: 42101-9864676-7 \\nEmail: malinasir1997@gmail.com \\nMobile No: 0331-2147373\\n[11:14 PM, 8/5/2022] ANSARI....: Name : Hamza Ahmed Ansari Roll number : AI-40591 Email : ibneshakeel2000@gmail.com Mobile number : 03333120597\\n[11:14 PM, 8/5/2022] +92 316 1448439: name: Zubair\\nroll no: AI- 40200 \\nemail: zubairrasheed0316@gmail.com \\nmobile-no: 03161448439\\n[11:14 PM, 8/5/2022] +92 315 2185186: Name: Irfan Roll Number: AI-45055 email: irfanmuhammadk786@gmail.com Mobile Number: 03152185186\\n[11:15 PM, 8/5/2022] +92 312 2093412: Basharat Ali :AI-46716\\nEmail: basharatfarhad24@gmail.com\\nMobile no:03122093412\\n[11:15 PM, 8/5/2022] +92 312 2296999: Shahzad Ahmed : AI-46166 - 03122296999 - umairtaqi48@gmail.com\\n[11:15 PM, 8/5/2022] +92 344 1802958: Name: Muhammad usama\\nRoll no : AI-43985\\nMobile no : 03441802958\\nEmail : usamakh315@gmail.com\\n[11:15 PM, 8/5/2022] +92 312 8525358: Faraz uddin : AI-44226- 03128525358 - asbausmuhammad92@gmail.com\\n[11:15 PM, 8/5/2022] +92 334 3523966: Name: Syed Muhammad Mooazam , Roll No: AI-40222 , Mobile Number: +923343523966\\n[11:15 PM, 8/5/2022] Sami (Uni): Name : Abdul Sami  Roll number : AI-40352 Email : abdulsamiarain82@gmail.com Mobile number : 03242824117\\n[11:16 PM, 8/5/2022] +92 312 2296999: Umair Taqi : AI-46155 - 03122296999 - umairtaqi48@gmail.com\\n[11:16 PM, 8/5/2022] +92 323 2553599: Name: Atiq Raza\\nID : AI-42612\\nEmail : razaatiq05@gmail.com\\nMobile No: 03232553599\\n[11:16 PM, 8/5/2022] +92 334 0378290: Ahsan Uddin\\nAI-43505\\n0334-0378290\\n[11:16 PM, 8/5/2022] +92 312 0004695: Name: Muhammad Furqan\\nRoll no:AI-40277\\nEmail: furqansawati@gmail.com\\nMobile no:03120004695\\n[11:17 PM, 8/5/2022] +92 306 2462926: Name: Syed Salman Ali , Roll No: AI-40969 , Mobile Number: +923062462926'\\n\""
      ]
     },
     "execution_count": 6,
     "metadata": {},
     "output_type": "execute_result"
    }
   ],
   "source": [
    "data"
   ]
  },
  {
   "cell_type": "markdown",
   "id": "eee6aae0",
   "metadata": {},
   "source": [
    "### Extract Numbers of each student"
   ]
  },
  {
   "cell_type": "code",
   "execution_count": 33,
   "id": "a68dd488",
   "metadata": {},
   "outputs": [],
   "source": [
    "num = re.findall(\"\\+92 [0-9]{3} [0-9]+\", data)"
   ]
  },
  {
   "cell_type": "code",
   "execution_count": 34,
   "id": "a300827b",
   "metadata": {},
   "outputs": [
    {
     "data": {
      "text/plain": [
       "['+92 300 2303175',\n",
       " '+92 315 2935701',\n",
       " '+92 334 2995610',\n",
       " '+92 335 3271054',\n",
       " '+92 345 2541450',\n",
       " '+92 316 2688657',\n",
       " '+92 344 2226632',\n",
       " '+92 313 1145255',\n",
       " '+92 323 2900066',\n",
       " '+92 306 2462926',\n",
       " '+92 315 3727169',\n",
       " '+92 342 3392795',\n",
       " '+92 331 2147373',\n",
       " '+92 316 1448439',\n",
       " '+92 315 2185186',\n",
       " '+92 312 2093412',\n",
       " '+92 312 2296999',\n",
       " '+92 344 1802958',\n",
       " '+92 312 8525358',\n",
       " '+92 334 3523966',\n",
       " '+92 312 2296999',\n",
       " '+92 323 2553599',\n",
       " '+92 334 0378290',\n",
       " '+92 312 0004695',\n",
       " '+92 306 2462926']"
      ]
     },
     "execution_count": 34,
     "metadata": {},
     "output_type": "execute_result"
    }
   ],
   "source": [
    "num"
   ]
  },
  {
   "cell_type": "code",
   "execution_count": 35,
   "id": "86769762",
   "metadata": {},
   "outputs": [
    {
     "name": "stdout",
     "output_type": "stream",
     "text": [
      "25\n"
     ]
    }
   ],
   "source": [
    "print(len(num))"
   ]
  },
  {
   "cell_type": "markdown",
   "id": "9c5eb52e",
   "metadata": {},
   "source": [
    "## Extract Email ID's of each student"
   ]
  },
  {
   "cell_type": "code",
   "execution_count": 15,
   "id": "caf1f76d",
   "metadata": {},
   "outputs": [
    {
     "data": {
      "text/plain": [
       "['shaze.ahmed@gmail.com',\n",
       " 'samikhan2872@gmail.com',\n",
       " 'khurshaiditm47@gmail.com',\n",
       " 'mohsinsheikh0700@gmail.com',\n",
       " 'abc@gmail.com',\n",
       " 'faizanwaseem476@gmail.com',\n",
       " 'hello.saad96@gmail.com',\n",
       " 'hafizgulzar.alm1996@gmail.com',\n",
       " 'samikhan2872@gmail.com',\n",
       " 'abc@gmail.com',\n",
       " 'ahmedsaleem2122@gmail.com',\n",
       " 'malinasir1997@gmail.com',\n",
       " 'ibneshakeel2000@gmail.com',\n",
       " 'zubairrasheed0316@gmail.com',\n",
       " 'irfanmuhammadk786@gmail.com',\n",
       " 'basharatfarhad24@gmail.com',\n",
       " 'umairtaqi48@gmail.com',\n",
       " 'usamakh315@gmail.com',\n",
       " 'asbausmuhammad92@gmail.com',\n",
       " 'abdulsamiarain82@gmail.com',\n",
       " 'umairtaqi48@gmail.com',\n",
       " 'razaatiq05@gmail.com',\n",
       " 'furqansawati@gmail.com']"
      ]
     },
     "execution_count": 15,
     "metadata": {},
     "output_type": "execute_result"
    }
   ],
   "source": [
    "email = re.findall(\"\\w*\\.*\\w*\\d*@gmail.com\", data)\n",
    "email"
   ]
  },
  {
   "cell_type": "code",
   "execution_count": 18,
   "id": "7874d516",
   "metadata": {},
   "outputs": [
    {
     "name": "stdout",
     "output_type": "stream",
     "text": [
      "23\n"
     ]
    }
   ],
   "source": [
    "print(len(email))"
   ]
  },
  {
   "cell_type": "markdown",
   "id": "e3459cae",
   "metadata": {},
   "source": [
    "### Extract Roll numbers of each student"
   ]
  },
  {
   "cell_type": "code",
   "execution_count": 28,
   "id": "2cd11bcf",
   "metadata": {},
   "outputs": [
    {
     "data": {
      "text/plain": [
       "['AI-46165',\n",
       " 'AI- 4048',\n",
       " 'AI-40211',\n",
       " 'AI-53993',\n",
       " 'AI-6546 ',\n",
       " 'AI 40939',\n",
       " 'AI-47242',\n",
       " 'AI-20145',\n",
       " 'AI-40154',\n",
       " 'AI- 4048',\n",
       " 'AI-40025',\n",
       " 'AI-44378',\n",
       " 'AI-40591',\n",
       " 'AI- 4020',\n",
       " 'AI-45055',\n",
       " 'AI-46716',\n",
       " 'AI-46166',\n",
       " 'AI-43985',\n",
       " 'AI-44226',\n",
       " 'AI-40222',\n",
       " 'AI-40352',\n",
       " 'AI-46155',\n",
       " 'AI-42612',\n",
       " 'AI-43505',\n",
       " 'AI-40277',\n",
       " 'AI-40969']"
      ]
     },
     "execution_count": 28,
     "metadata": {},
     "output_type": "execute_result"
    }
   ],
   "source": [
    "roll_num = re.findall(\"AI[\\-0-9 ]{6}\", data)\n",
    "roll_num"
   ]
  },
  {
   "cell_type": "code",
   "execution_count": 29,
   "id": "2863bfac",
   "metadata": {},
   "outputs": [
    {
     "name": "stdout",
     "output_type": "stream",
     "text": [
      "26\n"
     ]
    }
   ],
   "source": [
    "print(len(roll_num))"
   ]
  },
  {
   "cell_type": "code",
   "execution_count": null,
   "id": "476845e1",
   "metadata": {},
   "outputs": [],
   "source": []
  }
 ],
 "metadata": {
  "kernelspec": {
   "display_name": "Python 3",
   "language": "python",
   "name": "python3"
  },
  "language_info": {
   "codemirror_mode": {
    "name": "ipython",
    "version": 3
   },
   "file_extension": ".py",
   "mimetype": "text/x-python",
   "name": "python",
   "nbconvert_exporter": "python",
   "pygments_lexer": "ipython3",
   "version": "3.8.8"
  }
 },
 "nbformat": 4,
 "nbformat_minor": 5
}
