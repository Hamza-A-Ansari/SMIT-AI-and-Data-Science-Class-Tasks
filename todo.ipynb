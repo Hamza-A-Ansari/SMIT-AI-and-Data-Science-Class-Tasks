{
 "cells": [
  {
   "cell_type": "markdown",
   "id": "513cad47",
   "metadata": {},
   "source": [
    "# TODO APP:"
   ]
  },
  {
   "cell_type": "code",
   "execution_count": null,
   "id": "8c011167",
   "metadata": {},
   "outputs": [],
   "source": [
    "Tasks = [\"Prayer\",\"University\",\"Job\",\"Assignments\",\"Saylani\"]\n",
    "performed_tasks = []\n",
    "task_done = input(\"Enter task that you have done: \")\n",
    "if task_done in Tasks:\n",
    "    Tasks.remove(task_done)\n",
    "    performed_tasks.append(task_done)\n",
    "    print(Tasks)\n",
    "    print(performed_tasks)\n",
    "else:\n",
    "    print(task_done , \"is not in Tasks\")"
   ]
  }
 ],
 "metadata": {
  "kernelspec": {
   "display_name": "Python 3 (ipykernel)",
   "language": "python",
   "name": "python3"
  },
  "language_info": {
   "codemirror_mode": {
    "name": "ipython",
    "version": 3
   },
   "file_extension": ".py",
   "mimetype": "text/x-python",
   "name": "python",
   "nbconvert_exporter": "python",
   "pygments_lexer": "ipython3",
   "version": "3.9.12"
  }
 },
 "nbformat": 4,
 "nbformat_minor": 5
}
