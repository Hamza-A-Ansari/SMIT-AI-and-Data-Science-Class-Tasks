{
 "cells": [
  {
   "cell_type": "markdown",
   "id": "7ff811b5",
   "metadata": {},
   "source": [
    "# Task 2"
   ]
  },
  {
   "cell_type": "code",
   "execution_count": null,
   "id": "508c4329",
   "metadata": {},
   "outputs": [],
   "source": [
    "database = []\n",
    "user = {\n",
    "    'name':'',\n",
    "    'course':'',\n",
    "    'timing':''\n",
    "}\n",
    "\n",
    "while True:\n",
    "    name = input('Enter Your Name:')\n",
    "    if name == \":x\":\n",
    "        user['name']='null'\n",
    "        user['course']='null' \n",
    "        user['timing']='null'\n",
    "        database.append(user)\n",
    "    else:\n",
    "        user['name']=name\n",
    "        course = input('Enter Your Course:')\n",
    "        if course == \":x\":\n",
    "            user['course']='null' \n",
    "            user['timing']='null'\n",
    "            database.append(user)\n",
    "        else:\n",
    "            user['course']=course\n",
    "            timing = input('Enter Your Timing:')\n",
    "            if timing == \":x\":\n",
    "                user['timing']='null'\n",
    "                database.append(user)\n",
    "            else:\n",
    "                user['timing']=timing\n",
    "                database.append(user)\n",
    "    cont = input(\"Do you want to insert more data 'y/n':\")\n",
    "    if cont.lower() == \"n\":\n",
    "        break\n",
    "print(database)"
   ]
  },
  {
   "cell_type": "code",
   "execution_count": null,
   "id": "6187bbdb",
   "metadata": {},
   "outputs": [],
   "source": []
  },
  {
   "cell_type": "code",
   "execution_count": null,
   "id": "7d42ea1b",
   "metadata": {},
   "outputs": [],
   "source": []
  },
  {
   "cell_type": "code",
   "execution_count": null,
   "id": "036e5def",
   "metadata": {},
   "outputs": [],
   "source": []
  }
 ],
 "metadata": {
  "kernelspec": {
   "display_name": "Python 3 (ipykernel)",
   "language": "python",
   "name": "python3"
  },
  "language_info": {
   "codemirror_mode": {
    "name": "ipython",
    "version": 3
   },
   "file_extension": ".py",
   "mimetype": "text/x-python",
   "name": "python",
   "nbconvert_exporter": "python",
   "pygments_lexer": "ipython3",
   "version": "3.9.12"
  }
 },
 "nbformat": 4,
 "nbformat_minor": 5
}
