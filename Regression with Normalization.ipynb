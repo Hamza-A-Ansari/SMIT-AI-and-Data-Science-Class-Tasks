{
 "cells": [
  {
   "cell_type": "markdown",
   "id": "639b9ddf",
   "metadata": {},
   "source": [
    "# Import necessary modules"
   ]
  },
  {
   "cell_type": "code",
   "execution_count": 1,
   "id": "991dd152",
   "metadata": {},
   "outputs": [],
   "source": [
    "import pandas as pd\n",
    "import numpy as np\n",
    "import matplotlib.pyplot as plt\n",
    "from sklearn.model_selection import train_test_split\n",
    "from sklearn.linear_model import LinearRegression\n",
    "from sklearn import preprocessing\n",
    "from sklearn import metrics"
   ]
  },
  {
   "cell_type": "markdown",
   "id": "d7112682",
   "metadata": {},
   "source": [
    "## Load DataSets"
   ]
  },
  {
   "cell_type": "code",
   "execution_count": 2,
   "id": "fb1616b9",
   "metadata": {},
   "outputs": [
    {
     "data": {
      "text/html": [
       "<div>\n",
       "<style scoped>\n",
       "    .dataframe tbody tr th:only-of-type {\n",
       "        vertical-align: middle;\n",
       "    }\n",
       "\n",
       "    .dataframe tbody tr th {\n",
       "        vertical-align: top;\n",
       "    }\n",
       "\n",
       "    .dataframe thead th {\n",
       "        text-align: right;\n",
       "    }\n",
       "</style>\n",
       "<table border=\"1\" class=\"dataframe\">\n",
       "  <thead>\n",
       "    <tr style=\"text-align: right;\">\n",
       "      <th></th>\n",
       "      <th>crim</th>\n",
       "      <th>zn</th>\n",
       "      <th>indus</th>\n",
       "      <th>chas</th>\n",
       "      <th>nox</th>\n",
       "      <th>rm</th>\n",
       "      <th>age</th>\n",
       "      <th>dis</th>\n",
       "      <th>rad</th>\n",
       "      <th>tax</th>\n",
       "      <th>ptratio</th>\n",
       "      <th>b</th>\n",
       "      <th>lstat</th>\n",
       "      <th>medv</th>\n",
       "    </tr>\n",
       "  </thead>\n",
       "  <tbody>\n",
       "    <tr>\n",
       "      <th>0</th>\n",
       "      <td>0.00632</td>\n",
       "      <td>18.0</td>\n",
       "      <td>2.31</td>\n",
       "      <td>0</td>\n",
       "      <td>0.538</td>\n",
       "      <td>6.575</td>\n",
       "      <td>65.2</td>\n",
       "      <td>4.0900</td>\n",
       "      <td>1</td>\n",
       "      <td>296</td>\n",
       "      <td>15.3</td>\n",
       "      <td>396.90</td>\n",
       "      <td>4.98</td>\n",
       "      <td>24.0</td>\n",
       "    </tr>\n",
       "    <tr>\n",
       "      <th>1</th>\n",
       "      <td>0.02731</td>\n",
       "      <td>0.0</td>\n",
       "      <td>7.07</td>\n",
       "      <td>0</td>\n",
       "      <td>0.469</td>\n",
       "      <td>6.421</td>\n",
       "      <td>78.9</td>\n",
       "      <td>4.9671</td>\n",
       "      <td>2</td>\n",
       "      <td>242</td>\n",
       "      <td>17.8</td>\n",
       "      <td>396.90</td>\n",
       "      <td>9.14</td>\n",
       "      <td>21.6</td>\n",
       "    </tr>\n",
       "    <tr>\n",
       "      <th>2</th>\n",
       "      <td>0.02729</td>\n",
       "      <td>0.0</td>\n",
       "      <td>7.07</td>\n",
       "      <td>0</td>\n",
       "      <td>0.469</td>\n",
       "      <td>7.185</td>\n",
       "      <td>61.1</td>\n",
       "      <td>4.9671</td>\n",
       "      <td>2</td>\n",
       "      <td>242</td>\n",
       "      <td>17.8</td>\n",
       "      <td>392.83</td>\n",
       "      <td>4.03</td>\n",
       "      <td>34.7</td>\n",
       "    </tr>\n",
       "    <tr>\n",
       "      <th>3</th>\n",
       "      <td>0.03237</td>\n",
       "      <td>0.0</td>\n",
       "      <td>2.18</td>\n",
       "      <td>0</td>\n",
       "      <td>0.458</td>\n",
       "      <td>6.998</td>\n",
       "      <td>45.8</td>\n",
       "      <td>6.0622</td>\n",
       "      <td>3</td>\n",
       "      <td>222</td>\n",
       "      <td>18.7</td>\n",
       "      <td>394.63</td>\n",
       "      <td>2.94</td>\n",
       "      <td>33.4</td>\n",
       "    </tr>\n",
       "    <tr>\n",
       "      <th>4</th>\n",
       "      <td>0.06905</td>\n",
       "      <td>0.0</td>\n",
       "      <td>2.18</td>\n",
       "      <td>0</td>\n",
       "      <td>0.458</td>\n",
       "      <td>7.147</td>\n",
       "      <td>54.2</td>\n",
       "      <td>6.0622</td>\n",
       "      <td>3</td>\n",
       "      <td>222</td>\n",
       "      <td>18.7</td>\n",
       "      <td>396.90</td>\n",
       "      <td>5.33</td>\n",
       "      <td>36.2</td>\n",
       "    </tr>\n",
       "    <tr>\n",
       "      <th>...</th>\n",
       "      <td>...</td>\n",
       "      <td>...</td>\n",
       "      <td>...</td>\n",
       "      <td>...</td>\n",
       "      <td>...</td>\n",
       "      <td>...</td>\n",
       "      <td>...</td>\n",
       "      <td>...</td>\n",
       "      <td>...</td>\n",
       "      <td>...</td>\n",
       "      <td>...</td>\n",
       "      <td>...</td>\n",
       "      <td>...</td>\n",
       "      <td>...</td>\n",
       "    </tr>\n",
       "    <tr>\n",
       "      <th>501</th>\n",
       "      <td>0.06263</td>\n",
       "      <td>0.0</td>\n",
       "      <td>11.93</td>\n",
       "      <td>0</td>\n",
       "      <td>0.573</td>\n",
       "      <td>6.593</td>\n",
       "      <td>69.1</td>\n",
       "      <td>2.4786</td>\n",
       "      <td>1</td>\n",
       "      <td>273</td>\n",
       "      <td>21.0</td>\n",
       "      <td>391.99</td>\n",
       "      <td>9.67</td>\n",
       "      <td>22.4</td>\n",
       "    </tr>\n",
       "    <tr>\n",
       "      <th>502</th>\n",
       "      <td>0.04527</td>\n",
       "      <td>0.0</td>\n",
       "      <td>11.93</td>\n",
       "      <td>0</td>\n",
       "      <td>0.573</td>\n",
       "      <td>6.120</td>\n",
       "      <td>76.7</td>\n",
       "      <td>2.2875</td>\n",
       "      <td>1</td>\n",
       "      <td>273</td>\n",
       "      <td>21.0</td>\n",
       "      <td>396.90</td>\n",
       "      <td>9.08</td>\n",
       "      <td>20.6</td>\n",
       "    </tr>\n",
       "    <tr>\n",
       "      <th>503</th>\n",
       "      <td>0.06076</td>\n",
       "      <td>0.0</td>\n",
       "      <td>11.93</td>\n",
       "      <td>0</td>\n",
       "      <td>0.573</td>\n",
       "      <td>6.976</td>\n",
       "      <td>91.0</td>\n",
       "      <td>2.1675</td>\n",
       "      <td>1</td>\n",
       "      <td>273</td>\n",
       "      <td>21.0</td>\n",
       "      <td>396.90</td>\n",
       "      <td>5.64</td>\n",
       "      <td>23.9</td>\n",
       "    </tr>\n",
       "    <tr>\n",
       "      <th>504</th>\n",
       "      <td>0.10959</td>\n",
       "      <td>0.0</td>\n",
       "      <td>11.93</td>\n",
       "      <td>0</td>\n",
       "      <td>0.573</td>\n",
       "      <td>6.794</td>\n",
       "      <td>89.3</td>\n",
       "      <td>2.3889</td>\n",
       "      <td>1</td>\n",
       "      <td>273</td>\n",
       "      <td>21.0</td>\n",
       "      <td>393.45</td>\n",
       "      <td>6.48</td>\n",
       "      <td>22.0</td>\n",
       "    </tr>\n",
       "    <tr>\n",
       "      <th>505</th>\n",
       "      <td>0.04741</td>\n",
       "      <td>0.0</td>\n",
       "      <td>11.93</td>\n",
       "      <td>0</td>\n",
       "      <td>0.573</td>\n",
       "      <td>6.030</td>\n",
       "      <td>80.8</td>\n",
       "      <td>2.5050</td>\n",
       "      <td>1</td>\n",
       "      <td>273</td>\n",
       "      <td>21.0</td>\n",
       "      <td>396.90</td>\n",
       "      <td>7.88</td>\n",
       "      <td>11.9</td>\n",
       "    </tr>\n",
       "  </tbody>\n",
       "</table>\n",
       "<p>506 rows × 14 columns</p>\n",
       "</div>"
      ],
      "text/plain": [
       "        crim    zn  indus  chas    nox     rm   age     dis  rad  tax  \\\n",
       "0    0.00632  18.0   2.31     0  0.538  6.575  65.2  4.0900    1  296   \n",
       "1    0.02731   0.0   7.07     0  0.469  6.421  78.9  4.9671    2  242   \n",
       "2    0.02729   0.0   7.07     0  0.469  7.185  61.1  4.9671    2  242   \n",
       "3    0.03237   0.0   2.18     0  0.458  6.998  45.8  6.0622    3  222   \n",
       "4    0.06905   0.0   2.18     0  0.458  7.147  54.2  6.0622    3  222   \n",
       "..       ...   ...    ...   ...    ...    ...   ...     ...  ...  ...   \n",
       "501  0.06263   0.0  11.93     0  0.573  6.593  69.1  2.4786    1  273   \n",
       "502  0.04527   0.0  11.93     0  0.573  6.120  76.7  2.2875    1  273   \n",
       "503  0.06076   0.0  11.93     0  0.573  6.976  91.0  2.1675    1  273   \n",
       "504  0.10959   0.0  11.93     0  0.573  6.794  89.3  2.3889    1  273   \n",
       "505  0.04741   0.0  11.93     0  0.573  6.030  80.8  2.5050    1  273   \n",
       "\n",
       "     ptratio       b  lstat  medv  \n",
       "0       15.3  396.90   4.98  24.0  \n",
       "1       17.8  396.90   9.14  21.6  \n",
       "2       17.8  392.83   4.03  34.7  \n",
       "3       18.7  394.63   2.94  33.4  \n",
       "4       18.7  396.90   5.33  36.2  \n",
       "..       ...     ...    ...   ...  \n",
       "501     21.0  391.99   9.67  22.4  \n",
       "502     21.0  396.90   9.08  20.6  \n",
       "503     21.0  396.90   5.64  23.9  \n",
       "504     21.0  393.45   6.48  22.0  \n",
       "505     21.0  396.90   7.88  11.9  \n",
       "\n",
       "[506 rows x 14 columns]"
      ]
     },
     "execution_count": 2,
     "metadata": {},
     "output_type": "execute_result"
    }
   ],
   "source": [
    "df = pd.read_csv(\"BostonHousing.csv\")\n",
    "df"
   ]
  },
  {
   "cell_type": "markdown",
   "id": "b57b180b",
   "metadata": {},
   "source": [
    "## Checking for null and duplicate values"
   ]
  },
  {
   "cell_type": "code",
   "execution_count": 3,
   "id": "47679f9b",
   "metadata": {},
   "outputs": [
    {
     "data": {
      "text/plain": [
       "crim       0\n",
       "zn         0\n",
       "indus      0\n",
       "chas       0\n",
       "nox        0\n",
       "rm         0\n",
       "age        0\n",
       "dis        0\n",
       "rad        0\n",
       "tax        0\n",
       "ptratio    0\n",
       "b          0\n",
       "lstat      0\n",
       "medv       0\n",
       "dtype: int64"
      ]
     },
     "execution_count": 3,
     "metadata": {},
     "output_type": "execute_result"
    }
   ],
   "source": [
    "df.isnull().sum()"
   ]
  },
  {
   "cell_type": "code",
   "execution_count": 4,
   "id": "4f23972e",
   "metadata": {},
   "outputs": [
    {
     "data": {
      "text/plain": [
       "0"
      ]
     },
     "execution_count": 4,
     "metadata": {},
     "output_type": "execute_result"
    }
   ],
   "source": [
    "df.duplicated().sum()"
   ]
  },
  {
   "cell_type": "markdown",
   "id": "a3603ef2",
   "metadata": {},
   "source": [
    "# Normalization"
   ]
  },
  {
   "cell_type": "code",
   "execution_count": 5,
   "id": "fa534e5c",
   "metadata": {},
   "outputs": [],
   "source": [
    "x = df.iloc[:, 0:-1].values\n",
    "y = df.iloc[:, -1].values.reshape(-1, 1)"
   ]
  },
  {
   "cell_type": "code",
   "execution_count": 7,
   "id": "0c4152a7",
   "metadata": {},
   "outputs": [],
   "source": [
    "scaler_x = preprocessing.StandardScaler().fit(x)\n",
    "scaler_y = preprocessing.StandardScaler().fit(y)"
   ]
  },
  {
   "cell_type": "code",
   "execution_count": 8,
   "id": "037d58ed",
   "metadata": {},
   "outputs": [],
   "source": [
    "norm_x = scaler_x.transform(x)\n",
    "norm_y = scaler_y.transform(y)"
   ]
  },
  {
   "cell_type": "markdown",
   "id": "f037de35",
   "metadata": {},
   "source": [
    "# Spliting Data"
   ]
  },
  {
   "cell_type": "code",
   "execution_count": 9,
   "id": "43448673",
   "metadata": {},
   "outputs": [],
   "source": [
    "X_train, X_test, y_train, y_test = train_test_split(norm_x, norm_y, \n",
    "                                                    test_size=0.3,\n",
    "                                                   shuffle=False)"
   ]
  },
  {
   "cell_type": "markdown",
   "id": "a017a742",
   "metadata": {},
   "source": [
    "# Training Data"
   ]
  },
  {
   "cell_type": "code",
   "execution_count": 10,
   "id": "ec15ccae",
   "metadata": {},
   "outputs": [],
   "source": [
    "reg = LinearRegression()\n",
    "model = reg.fit(X_train, y_train)"
   ]
  },
  {
   "cell_type": "markdown",
   "id": "632994c7",
   "metadata": {},
   "source": [
    "## Regression Line"
   ]
  },
  {
   "cell_type": "code",
   "execution_count": 38,
   "id": "a32263fc",
   "metadata": {},
   "outputs": [],
   "source": [
    "line = reg.coef_*norm_x + reg.intercept_"
   ]
  },
  {
   "cell_type": "markdown",
   "id": "fec639a0",
   "metadata": {},
   "source": [
    "# Predictions"
   ]
  },
  {
   "cell_type": "code",
   "execution_count": 15,
   "id": "cf1d92d9",
   "metadata": {},
   "outputs": [
    {
     "name": "stdout",
     "output_type": "stream",
     "text": [
      "[[-0.4155122   2.94584308 -1.34627324 ...  1.63882832  0.28645448\n",
      "  -0.64522879]\n",
      " [-0.40811319  2.94584308 -1.34627324 ...  1.63882832  0.21233542\n",
      "  -0.99285977]\n",
      " [ 0.62485868 -0.48772236  1.01599907 ...  0.80657583  0.23086518\n",
      "   0.69343084]\n",
      " ...\n",
      " [-0.41344658 -0.48772236  0.11573841 ...  1.17646583  0.44105193\n",
      "  -0.98304761]\n",
      " [-0.40776407 -0.48772236  0.11573841 ...  1.17646583  0.4032249\n",
      "  -0.86530163]\n",
      " [-0.41500016 -0.48772236  0.11573841 ...  1.17646583  0.44105193\n",
      "  -0.66905833]]\n"
     ]
    }
   ],
   "source": [
    "print(X_test) \n",
    "y_pred = reg.predict(X_test) "
   ]
  },
  {
   "cell_type": "markdown",
   "id": "f90d8683",
   "metadata": {},
   "source": [
    "# Errors"
   ]
  },
  {
   "cell_type": "code",
   "execution_count": 25,
   "id": "38b08274",
   "metadata": {},
   "outputs": [
    {
     "name": "stdout",
     "output_type": "stream",
     "text": [
      "MAE: 1.6753765591275767\n",
      "MSE: 6.478586022406224\n",
      "RMSE: 2.5453066656900547\n"
     ]
    }
   ],
   "source": [
    "print('MAE:', metrics.mean_absolute_error(y_test, y_pred))\n",
    "print('MSE:', metrics.mean_squared_error(y_test, y_pred))\n",
    "print('RMSE:', np.sqrt(metrics.mean_squared_error(y_test, y_pred)))"
   ]
  },
  {
   "cell_type": "code",
   "execution_count": 34,
   "id": "07431f00",
   "metadata": {},
   "outputs": [
    {
     "data": {
      "text/plain": [
       "array([[-1.08801479e+00],\n",
       "       [-7.78383388e-01],\n",
       "       [ 6.61606505e-01],\n",
       "       [ 1.82752236e-01],\n",
       "       [ 1.45086631e-01],\n",
       "       [-7.76235970e-02],\n",
       "       [ 2.38815763e-01],\n",
       "       [-1.09061977e-01],\n",
       "       [-9.39094987e-01],\n",
       "       [-3.70906596e-01],\n",
       "       [ 2.70109432e+00],\n",
       "       [-2.49983214e+00],\n",
       "       [-1.37850494e+00],\n",
       "       [-1.34054822e+00],\n",
       "       [-9.02594069e-01],\n",
       "       [ 1.02476484e+00],\n",
       "       [ 1.53117156e+00],\n",
       "       [ 8.98618562e-01],\n",
       "       [ 4.98811065e-01],\n",
       "       [-4.01057220e-01],\n",
       "       [-1.60386750e-01],\n",
       "       [ 3.43579321e+00],\n",
       "       [ 2.01759209e+00],\n",
       "       [ 1.44275299e+00],\n",
       "       [ 2.96206977e+00],\n",
       "       [ 1.98363948e+00],\n",
       "       [ 1.28605351e+01],\n",
       "       [ 2.03038441e+00],\n",
       "       [ 5.37559820e-03],\n",
       "       [-1.84581169e-01],\n",
       "       [ 1.61773838e-01],\n",
       "       [ 7.70973374e-01],\n",
       "       [ 1.22488582e+00],\n",
       "       [ 1.32961349e+00],\n",
       "       [-4.32133458e-02],\n",
       "       [-2.68533455e-01],\n",
       "       [-8.72448418e-02],\n",
       "       [ 1.99429226e-02],\n",
       "       [-1.86090180e-01],\n",
       "       [ 6.99769887e-01],\n",
       "       [ 1.03568618e+00],\n",
       "       [ 9.37189068e-01],\n",
       "       [ 4.72971739e-01],\n",
       "       [ 4.25802485e-02],\n",
       "       [ 3.98220620e+00],\n",
       "       [ 3.83573366e-01],\n",
       "       [ 2.67123098e+00],\n",
       "       [ 1.57194524e+00],\n",
       "       [ 9.36276004e-01],\n",
       "       [ 2.07532775e+00],\n",
       "       [ 4.48668264e+00],\n",
       "       [ 8.45225416e+00],\n",
       "       [ 2.63245482e-01],\n",
       "       [ 5.45637656e-01],\n",
       "       [-2.09829458e-01],\n",
       "       [ 1.85118025e+00],\n",
       "       [ 5.73097485e+00],\n",
       "       [ 1.33139251e+00],\n",
       "       [-1.88539174e-01],\n",
       "       [ 2.18873484e+00],\n",
       "       [ 3.47309488e+00],\n",
       "       [ 1.46983163e+00],\n",
       "       [ 8.67384122e-01],\n",
       "       [ 1.71027234e+00],\n",
       "       [ 8.88864613e+00],\n",
       "       [ 1.15945937e+00],\n",
       "       [ 1.06348407e+00],\n",
       "       [ 9.86414240e-02],\n",
       "       [ 5.48977561e-01],\n",
       "       [-2.84539177e-01],\n",
       "       [-4.17940586e-01],\n",
       "       [ 6.44124214e-01],\n",
       "       [ 4.54904115e-01],\n",
       "       [ 4.23753457e+00],\n",
       "       [ 9.16557178e-03],\n",
       "       [ 2.98216952e-01],\n",
       "       [ 3.84826256e-01],\n",
       "       [ 1.02598463e+00],\n",
       "       [ 2.97016833e-01],\n",
       "       [-5.72554091e-02],\n",
       "       [ 8.75471695e-01],\n",
       "       [ 8.27424470e-01],\n",
       "       [ 1.04975095e+00],\n",
       "       [ 7.03209229e-01],\n",
       "       [ 3.65880518e-01],\n",
       "       [ 9.98267827e-02],\n",
       "       [ 2.08028762e+00],\n",
       "       [ 9.06177337e-01],\n",
       "       [ 1.84455735e-01],\n",
       "       [ 1.02304030e+00],\n",
       "       [ 5.10979027e-01],\n",
       "       [ 4.77963613e-01],\n",
       "       [ 2.60240818e-01],\n",
       "       [ 8.04498549e-01],\n",
       "       [ 6.61043071e-01],\n",
       "       [ 4.78310906e-01],\n",
       "       [ 2.10323792e-01],\n",
       "       [ 5.11187448e-01],\n",
       "       [ 1.87346397e-01],\n",
       "       [ 1.68073181e+00],\n",
       "       [ 5.57085077e-01],\n",
       "       [-1.94060017e-01],\n",
       "       [-8.58268981e-01],\n",
       "       [-3.72985074e-01],\n",
       "       [ 3.82648883e-01],\n",
       "       [ 2.59923503e-01],\n",
       "       [ 3.26675350e-01],\n",
       "       [ 1.04587754e-01],\n",
       "       [ 4.89376750e-01],\n",
       "       [ 5.61430213e-01],\n",
       "       [ 6.77107067e-01],\n",
       "       [-4.78349900e-01],\n",
       "       [-9.25138598e-01],\n",
       "       [-2.39352792e-01],\n",
       "       [ 1.43758993e+00],\n",
       "       [ 1.03210199e+00],\n",
       "       [ 8.65490118e-02],\n",
       "       [ 1.46098732e-01],\n",
       "       [ 3.19948159e-01],\n",
       "       [ 1.05331412e+00],\n",
       "       [-2.30202414e-01],\n",
       "       [ 1.40139171e-01],\n",
       "       [ 4.44968784e-01],\n",
       "       [ 5.47678833e-01],\n",
       "       [ 8.77397202e-01],\n",
       "       [ 1.62222217e+00],\n",
       "       [ 5.31347264e-01],\n",
       "       [ 1.00993639e+00],\n",
       "       [ 1.31941555e+00],\n",
       "       [-3.26815431e-01],\n",
       "       [-3.68806605e-01],\n",
       "       [ 2.41453308e-01],\n",
       "       [ 1.95753331e-01],\n",
       "       [ 6.32186628e-02],\n",
       "       [-1.52550041e+00],\n",
       "       [-1.73097051e+00],\n",
       "       [-2.15899586e+00],\n",
       "       [-1.04269618e+00],\n",
       "       [-9.30293500e-01],\n",
       "       [-5.16140226e-01],\n",
       "       [-2.41078259e-01],\n",
       "       [-5.34377890e-01],\n",
       "       [-1.04763529e+00],\n",
       "       [-5.69141932e-01],\n",
       "       [-2.60441923e-01],\n",
       "       [-7.85918573e-01],\n",
       "       [-3.48650378e-01],\n",
       "       [ 3.02827225e-01],\n",
       "       [-1.79507893e-01],\n",
       "       [ 6.61636308e-01],\n",
       "       [ 4.57037852e-01],\n",
       "       [-2.99141340e-01]])"
      ]
     },
     "execution_count": 34,
     "metadata": {},
     "output_type": "execute_result"
    }
   ],
   "source": [
    "y_pred"
   ]
  },
  {
   "cell_type": "code",
   "execution_count": null,
   "id": "84ad1c10",
   "metadata": {},
   "outputs": [],
   "source": []
  }
 ],
 "metadata": {
  "kernelspec": {
   "display_name": "Python 3 (ipykernel)",
   "language": "python",
   "name": "python3"
  },
  "language_info": {
   "codemirror_mode": {
    "name": "ipython",
    "version": 3
   },
   "file_extension": ".py",
   "mimetype": "text/x-python",
   "name": "python",
   "nbconvert_exporter": "python",
   "pygments_lexer": "ipython3",
   "version": "3.9.7"
  }
 },
 "nbformat": 4,
 "nbformat_minor": 5
}
