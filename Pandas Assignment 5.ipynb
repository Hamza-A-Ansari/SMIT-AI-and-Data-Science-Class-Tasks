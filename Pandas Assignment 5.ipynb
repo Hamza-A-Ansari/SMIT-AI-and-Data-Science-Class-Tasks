{
 "cells": [
  {
   "cell_type": "code",
   "execution_count": 1,
   "id": "59067944",
   "metadata": {},
   "outputs": [],
   "source": [
    "import pandas as pd"
   ]
  },
  {
   "cell_type": "code",
   "execution_count": 5,
   "id": "59f2386a",
   "metadata": {},
   "outputs": [],
   "source": [
    "data = pd.Series([\"Keywords provided by Hoag Memorial Hospital Presbyterian: head cancer neck cancer Additional relevant MeSH terms:Head and Neck NeoplasmsNeoplasms by SiteNeoplasms\", \n",
    "           \"Keywords provided by Alice Ho, Massachusetts General Hospital: Breast Cancer Triple Negative Breast Cancer Additional relevant MeSH terms:Breast NeoplasmsTriple Negative Breast NeoplasmsNeoplasms by SiteNeoplasmsBreast DiseasesSkin Diseases\",\n",
    "           \"Keywords provided by Cristiane Takita, University of Miami: Breast Cancer Early-stage Breast CancerAdditional relevant MeSH terms:Breast NeoplasmsNeoplasms by SiteNeoplasmsBreast DiseasesSkin Diseases\",]\n",
    "    \n",
    ").str.extract(r\"([A-z ]+).[Cc]ancer\")\n"
   ]
  },
  {
   "cell_type": "markdown",
   "id": "c4c311c4",
   "metadata": {},
   "source": [
    "### Extract the word before \"Cancer\""
   ]
  },
  {
   "cell_type": "code",
   "execution_count": 6,
   "id": "1066b286",
   "metadata": {},
   "outputs": [],
   "source": [
    "data1 = data[0].str.split(\"[Cc]ancer\")"
   ]
  },
  {
   "cell_type": "code",
   "execution_count": 7,
   "id": "2dfc0f7a",
   "metadata": {},
   "outputs": [
    {
     "data": {
      "text/html": [
       "<div>\n",
       "<style scoped>\n",
       "    .dataframe tbody tr th:only-of-type {\n",
       "        vertical-align: middle;\n",
       "    }\n",
       "\n",
       "    .dataframe tbody tr th {\n",
       "        vertical-align: top;\n",
       "    }\n",
       "\n",
       "    .dataframe thead th {\n",
       "        text-align: right;\n",
       "    }\n",
       "</style>\n",
       "<table border=\"1\" class=\"dataframe\">\n",
       "  <thead>\n",
       "    <tr style=\"text-align: right;\">\n",
       "      <th></th>\n",
       "      <th>Cancer_type</th>\n",
       "    </tr>\n",
       "  </thead>\n",
       "  <tbody>\n",
       "    <tr>\n",
       "      <th>0</th>\n",
       "      <td>[ head ,  neck]</td>\n",
       "    </tr>\n",
       "    <tr>\n",
       "      <th>1</th>\n",
       "      <td>[ Breast ,  Triple Negative Breast]</td>\n",
       "    </tr>\n",
       "    <tr>\n",
       "      <th>2</th>\n",
       "      <td>[ Breast]</td>\n",
       "    </tr>\n",
       "  </tbody>\n",
       "</table>\n",
       "</div>"
      ],
      "text/plain": [
       "                           Cancer_type\n",
       "0                      [ head ,  neck]\n",
       "1  [ Breast ,  Triple Negative Breast]\n",
       "2                            [ Breast]"
      ]
     },
     "execution_count": 7,
     "metadata": {},
     "output_type": "execute_result"
    }
   ],
   "source": [
    "pd.DataFrame({\"Cancer_type\": data1})"
   ]
  },
  {
   "cell_type": "code",
   "execution_count": null,
   "id": "2dc54649",
   "metadata": {},
   "outputs": [],
   "source": []
  }
 ],
 "metadata": {
  "kernelspec": {
   "display_name": "Python 3 (ipykernel)",
   "language": "python",
   "name": "python3"
  },
  "language_info": {
   "codemirror_mode": {
    "name": "ipython",
    "version": 3
   },
   "file_extension": ".py",
   "mimetype": "text/x-python",
   "name": "python",
   "nbconvert_exporter": "python",
   "pygments_lexer": "ipython3",
   "version": "3.9.7"
  }
 },
 "nbformat": 4,
 "nbformat_minor": 5
}
